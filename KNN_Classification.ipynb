{
  "nbformat": 4,
  "nbformat_minor": 0,
  "metadata": {
    "colab": {
      "provenance": [],
      "authorship_tag": "ABX9TyNxQTB65C2PXj8MJgdVkGe4",
      "include_colab_link": true
    },
    "kernelspec": {
      "name": "python3",
      "display_name": "Python 3"
    },
    "language_info": {
      "name": "python"
    }
  },
  "cells": [
    {
      "cell_type": "markdown",
      "metadata": {
        "id": "view-in-github",
        "colab_type": "text"
      },
      "source": [
        "<a href=\"https://colab.research.google.com/github/kerycheng/Python_machine_learning/blob/main/KNN_Classification.ipynb\" target=\"_parent\"><img src=\"https://colab.research.google.com/assets/colab-badge.svg\" alt=\"Open In Colab\"/></a>"
      ]
    },
    {
      "cell_type": "code",
      "source": [
        "!pip install numpy\n",
        "!pip install pandas"
      ],
      "metadata": {
        "colab": {
          "base_uri": "https://localhost:8080/"
        },
        "id": "NcqwYbFkp83D",
        "outputId": "65f2b383-dc30-45bf-f2b1-8682ae405ab1"
      },
      "execution_count": 2,
      "outputs": [
        {
          "output_type": "stream",
          "name": "stdout",
          "text": [
            "Looking in indexes: https://pypi.org/simple, https://us-python.pkg.dev/colab-wheels/public/simple/\n",
            "Requirement already satisfied: numpy in /usr/local/lib/python3.8/dist-packages (1.21.6)\n",
            "Looking in indexes: https://pypi.org/simple, https://us-python.pkg.dev/colab-wheels/public/simple/\n",
            "Requirement already satisfied: pandas in /usr/local/lib/python3.8/dist-packages (1.3.5)\n",
            "Requirement already satisfied: python-dateutil>=2.7.3 in /usr/local/lib/python3.8/dist-packages (from pandas) (2.8.2)\n",
            "Requirement already satisfied: pytz>=2017.3 in /usr/local/lib/python3.8/dist-packages (from pandas) (2022.7)\n",
            "Requirement already satisfied: numpy>=1.17.3 in /usr/local/lib/python3.8/dist-packages (from pandas) (1.21.6)\n",
            "Requirement already satisfied: six>=1.5 in /usr/local/lib/python3.8/dist-packages (from python-dateutil>=2.7.3->pandas) (1.15.0)\n"
          ]
        }
      ]
    },
    {
      "cell_type": "code",
      "source": [
        "from google.colab import files #匯入套件\n",
        "\n",
        "upload = files.upload() #開啟上傳介面並載入"
      ],
      "metadata": {
        "id": "A1QWEv7Wsfi8",
        "colab": {
          "base_uri": "https://localhost:8080/",
          "height": 75
        },
        "outputId": "d3fec02e-7bf6-4aca-9fee-fa5bcbbd67b5"
      },
      "execution_count": 6,
      "outputs": [
        {
          "output_type": "display_data",
          "data": {
            "text/plain": [
              "<IPython.core.display.HTML object>"
            ],
            "text/html": [
              "\n",
              "     <input type=\"file\" id=\"files-ad8086f8-ffa5-44b8-8716-cf30973dae81\" name=\"files[]\" multiple disabled\n",
              "        style=\"border:none\" />\n",
              "     <output id=\"result-ad8086f8-ffa5-44b8-8716-cf30973dae81\">\n",
              "      Upload widget is only available when the cell has been executed in the\n",
              "      current browser session. Please rerun this cell to enable.\n",
              "      </output>\n",
              "      <script>// Copyright 2017 Google LLC\n",
              "//\n",
              "// Licensed under the Apache License, Version 2.0 (the \"License\");\n",
              "// you may not use this file except in compliance with the License.\n",
              "// You may obtain a copy of the License at\n",
              "//\n",
              "//      http://www.apache.org/licenses/LICENSE-2.0\n",
              "//\n",
              "// Unless required by applicable law or agreed to in writing, software\n",
              "// distributed under the License is distributed on an \"AS IS\" BASIS,\n",
              "// WITHOUT WARRANTIES OR CONDITIONS OF ANY KIND, either express or implied.\n",
              "// See the License for the specific language governing permissions and\n",
              "// limitations under the License.\n",
              "\n",
              "/**\n",
              " * @fileoverview Helpers for google.colab Python module.\n",
              " */\n",
              "(function(scope) {\n",
              "function span(text, styleAttributes = {}) {\n",
              "  const element = document.createElement('span');\n",
              "  element.textContent = text;\n",
              "  for (const key of Object.keys(styleAttributes)) {\n",
              "    element.style[key] = styleAttributes[key];\n",
              "  }\n",
              "  return element;\n",
              "}\n",
              "\n",
              "// Max number of bytes which will be uploaded at a time.\n",
              "const MAX_PAYLOAD_SIZE = 100 * 1024;\n",
              "\n",
              "function _uploadFiles(inputId, outputId) {\n",
              "  const steps = uploadFilesStep(inputId, outputId);\n",
              "  const outputElement = document.getElementById(outputId);\n",
              "  // Cache steps on the outputElement to make it available for the next call\n",
              "  // to uploadFilesContinue from Python.\n",
              "  outputElement.steps = steps;\n",
              "\n",
              "  return _uploadFilesContinue(outputId);\n",
              "}\n",
              "\n",
              "// This is roughly an async generator (not supported in the browser yet),\n",
              "// where there are multiple asynchronous steps and the Python side is going\n",
              "// to poll for completion of each step.\n",
              "// This uses a Promise to block the python side on completion of each step,\n",
              "// then passes the result of the previous step as the input to the next step.\n",
              "function _uploadFilesContinue(outputId) {\n",
              "  const outputElement = document.getElementById(outputId);\n",
              "  const steps = outputElement.steps;\n",
              "\n",
              "  const next = steps.next(outputElement.lastPromiseValue);\n",
              "  return Promise.resolve(next.value.promise).then((value) => {\n",
              "    // Cache the last promise value to make it available to the next\n",
              "    // step of the generator.\n",
              "    outputElement.lastPromiseValue = value;\n",
              "    return next.value.response;\n",
              "  });\n",
              "}\n",
              "\n",
              "/**\n",
              " * Generator function which is called between each async step of the upload\n",
              " * process.\n",
              " * @param {string} inputId Element ID of the input file picker element.\n",
              " * @param {string} outputId Element ID of the output display.\n",
              " * @return {!Iterable<!Object>} Iterable of next steps.\n",
              " */\n",
              "function* uploadFilesStep(inputId, outputId) {\n",
              "  const inputElement = document.getElementById(inputId);\n",
              "  inputElement.disabled = false;\n",
              "\n",
              "  const outputElement = document.getElementById(outputId);\n",
              "  outputElement.innerHTML = '';\n",
              "\n",
              "  const pickedPromise = new Promise((resolve) => {\n",
              "    inputElement.addEventListener('change', (e) => {\n",
              "      resolve(e.target.files);\n",
              "    });\n",
              "  });\n",
              "\n",
              "  const cancel = document.createElement('button');\n",
              "  inputElement.parentElement.appendChild(cancel);\n",
              "  cancel.textContent = 'Cancel upload';\n",
              "  const cancelPromise = new Promise((resolve) => {\n",
              "    cancel.onclick = () => {\n",
              "      resolve(null);\n",
              "    };\n",
              "  });\n",
              "\n",
              "  // Wait for the user to pick the files.\n",
              "  const files = yield {\n",
              "    promise: Promise.race([pickedPromise, cancelPromise]),\n",
              "    response: {\n",
              "      action: 'starting',\n",
              "    }\n",
              "  };\n",
              "\n",
              "  cancel.remove();\n",
              "\n",
              "  // Disable the input element since further picks are not allowed.\n",
              "  inputElement.disabled = true;\n",
              "\n",
              "  if (!files) {\n",
              "    return {\n",
              "      response: {\n",
              "        action: 'complete',\n",
              "      }\n",
              "    };\n",
              "  }\n",
              "\n",
              "  for (const file of files) {\n",
              "    const li = document.createElement('li');\n",
              "    li.append(span(file.name, {fontWeight: 'bold'}));\n",
              "    li.append(span(\n",
              "        `(${file.type || 'n/a'}) - ${file.size} bytes, ` +\n",
              "        `last modified: ${\n",
              "            file.lastModifiedDate ? file.lastModifiedDate.toLocaleDateString() :\n",
              "                                    'n/a'} - `));\n",
              "    const percent = span('0% done');\n",
              "    li.appendChild(percent);\n",
              "\n",
              "    outputElement.appendChild(li);\n",
              "\n",
              "    const fileDataPromise = new Promise((resolve) => {\n",
              "      const reader = new FileReader();\n",
              "      reader.onload = (e) => {\n",
              "        resolve(e.target.result);\n",
              "      };\n",
              "      reader.readAsArrayBuffer(file);\n",
              "    });\n",
              "    // Wait for the data to be ready.\n",
              "    let fileData = yield {\n",
              "      promise: fileDataPromise,\n",
              "      response: {\n",
              "        action: 'continue',\n",
              "      }\n",
              "    };\n",
              "\n",
              "    // Use a chunked sending to avoid message size limits. See b/62115660.\n",
              "    let position = 0;\n",
              "    do {\n",
              "      const length = Math.min(fileData.byteLength - position, MAX_PAYLOAD_SIZE);\n",
              "      const chunk = new Uint8Array(fileData, position, length);\n",
              "      position += length;\n",
              "\n",
              "      const base64 = btoa(String.fromCharCode.apply(null, chunk));\n",
              "      yield {\n",
              "        response: {\n",
              "          action: 'append',\n",
              "          file: file.name,\n",
              "          data: base64,\n",
              "        },\n",
              "      };\n",
              "\n",
              "      let percentDone = fileData.byteLength === 0 ?\n",
              "          100 :\n",
              "          Math.round((position / fileData.byteLength) * 100);\n",
              "      percent.textContent = `${percentDone}% done`;\n",
              "\n",
              "    } while (position < fileData.byteLength);\n",
              "  }\n",
              "\n",
              "  // All done.\n",
              "  yield {\n",
              "    response: {\n",
              "      action: 'complete',\n",
              "    }\n",
              "  };\n",
              "}\n",
              "\n",
              "scope.google = scope.google || {};\n",
              "scope.google.colab = scope.google.colab || {};\n",
              "scope.google.colab._files = {\n",
              "  _uploadFiles,\n",
              "  _uploadFilesContinue,\n",
              "};\n",
              "})(self);\n",
              "</script> "
            ]
          },
          "metadata": {}
        },
        {
          "output_type": "stream",
          "name": "stdout",
          "text": [
            "Saving Iris.csv to Iris (3).csv\n"
          ]
        }
      ]
    },
    {
      "cell_type": "code",
      "source": [
        "import numpy as np\n",
        "import pandas as pd\n",
        "\n",
        "# 讀取鳶尾花數據集\n",
        "data = pd.read_csv(r'Iris.csv')\n",
        "\n",
        "# 隨機抽選10個樣本\n",
        "# print(data.sample(10))\n",
        "\n",
        "# 對Species重新賦值\n",
        "data['Species'] = data['Species'].map({'Iris-versicolor': 0,\n",
        "                    'Iris-setosa': 1,\n",
        "                    'Iris-virginica': 2})\n",
        "\n",
        "# 刪除不需要的Id列\n",
        "data.drop('Id', axis=1, inplace=True)\n",
        "\n",
        "# 檢查數據集是否有重複\n",
        "# print(data.duplicated().any())\n",
        "\n",
        "# 原先數據集數量\n",
        "# print(len(data))\n",
        "\n",
        "# 刪除重複的紀錄\n",
        "data.drop_duplicates(inplace=True)\n",
        "\n",
        "# 刪除後的數據集數量\n",
        "# print(len(data))\n",
        "\n",
        "# 各個鳶尾花類別共有多少個\n",
        "print(data['Species'].value_counts())"
      ],
      "metadata": {
        "id": "a2337mAAqOmC",
        "colab": {
          "base_uri": "https://localhost:8080/"
        },
        "outputId": "45fc795a-928d-4895-8adb-73c6824603d0"
      },
      "execution_count": 9,
      "outputs": [
        {
          "output_type": "stream",
          "name": "stdout",
          "text": [
            "0    50\n",
            "2    49\n",
            "1    48\n",
            "Name: Species, dtype: int64\n"
          ]
        }
      ]
    },
    {
      "cell_type": "code",
      "source": [
        "class KNN:\n",
        "  def __init__(self, k):\n",
        "    '''\n",
        "    k -> int 鄰居的個數\n",
        "    '''\n",
        "\n",
        "    self.k = k\n",
        "\n",
        "  def fit(self, X, y): # 訓練方法\n",
        "    '''\n",
        "    X -> array-like type, [樣本數量, 特徵數量] 待訓練的樣本特徵(屬性)\n",
        "    y -> array-like type, [樣本數量] 每個樣本的目標值(標籤)\n",
        "    '''\n",
        "\n",
        "    # 將X, y轉換成ndarray數組類型\n",
        "    self.X = np.asarray(X)\n",
        "    self.y = np.asarray(y)\n",
        "\n",
        "  def predict(self, X):\n",
        "    '''\n",
        "    根據參數傳遞的樣本, 對樣本數據進行預測\n",
        "    X -> array-like type, [樣本數量, 特徵數量] 待訓練的樣本特徵(屬性)\n",
        "    result -> array type 預測結果\n",
        "    '''\n",
        "\n",
        "    X = np.asarray(X)\n",
        "    result = []\n",
        "\n",
        "    # 遍歷ndarray, 每次取數組中的一行\n",
        "    for x in X:\n",
        "      # 對測試集中的每一個樣本，一次與訓練及中的所有樣本求距離\n",
        "      distance = np.sqrt(np.sum((x - self.X) ** 2, axis=1))\n",
        "      # 排序distance並返回排序前的索引值\n",
        "      index = distance.argsort()\n",
        "      # 進行截斷, 只取前k個元素\n",
        "      index = index[:self.k]\n",
        "      # 返回數組中每個元素出現的次數\n",
        "      count = np.bincount(self.y[index])\n",
        "      # 返回最大的元素對應的索引, 該索引就是我們判定的類別\n",
        "      # 最大的元素索引就是出現次數最多的元素\n",
        "      result.append(count.argmax())\n",
        "\n",
        "    return np.asarray(result)\n",
        "\n",
        "  def predict2(self, X):\n",
        "    '''\n",
        "    根據參數傳遞的樣本, 對樣本數據進行預測(考慮權重)\n",
        "    X -> array-like type, [樣本數量, 特徵數量] 待訓練的樣本特徵(屬性)\n",
        "    result -> array type 預測結果\n",
        "    '''\n",
        "\n",
        "    X = np.asarray(X)\n",
        "    result = []\n",
        "\n",
        "    # 遍歷ndarray, 每次取數組中的一行\n",
        "    for x in X:\n",
        "      # 對測試集中的每一個樣本，一次與訓練及中的所有樣本求距離\n",
        "      distance = np.sqrt(np.sum((x - self.X) ** 2, axis=1))\n",
        "      # 排序distance並返回排序前的索引值\n",
        "      index = distance.argsort()\n",
        "      # 進行截斷, 只取前k個元素\n",
        "      index = index[:self.k]\n",
        "      # 返回數組中每個元素出現的次數(使用weights考慮權重, 權重為距離的倒數)\n",
        "      count = np.bincount(self.y[index], weights=1/distance[index])\n",
        "      # 返回最大的元素對應的索引, 該索引就是我們判定的類別\n",
        "      # 最大的元素索引就是出現次數最多的元素\n",
        "      result.append(count.argmax())\n",
        "\n",
        "    return np.asarray(result)"
      ],
      "metadata": {
        "id": "CiCyP3_XqunT"
      },
      "execution_count": 43,
      "outputs": []
    },
    {
      "cell_type": "code",
      "source": [
        "from pandas.core.common import random_state\n",
        "\n",
        "# 提取出每個類別的鳶尾花數據\n",
        "t0 = data[data['Species'] == 0]\n",
        "t1 = data[data['Species'] == 1]\n",
        "t2 = data[data['Species'] == 2]\n",
        "\n",
        "# 對每個類別數據進行洗牌\n",
        "np.random.seed(0)\n",
        "t0 = t0.sample(len(t0))\n",
        "t1 = t1.sample(len(t1))\n",
        "t2 = t2.sample(len(t2))\n",
        "\n",
        "# 構建訓練集與測試集\n",
        "train_X = pd.concat([t0.iloc[:40, :-1], t1.iloc[:40, :-1], t2.iloc[:40, :-1]], axis=0)\n",
        "train_y = pd.concat([t0.iloc[:40, -1], t1.iloc[:40, -1], t2.iloc[:40, -1]], axis=0)\n",
        "test_X = pd.concat([t0.iloc[40:, :-1], t1.iloc[40:, :-1], t2.iloc[40:, :-1]], axis=0)\n",
        "test_y = pd.concat([t0.iloc[40:, -1], t1.iloc[40:, -1], t2.iloc[40:, -1]], axis=0)\n",
        "\n",
        "# 創建KNN對象, 進行訓練與測試\n",
        "knn = KNN(k = 3)\n",
        "\n",
        "# 進行訓練\n",
        "knn.fit(train_X, train_y)\n",
        "\n",
        "# 進行測試, 獲得測試的結果\n",
        "result = knn.predict(test_X)\n",
        "\n",
        "display(np.sum(result == test_y) / len(result))"
      ],
      "metadata": {
        "colab": {
          "base_uri": "https://localhost:8080/",
          "height": 34
        },
        "id": "RUVfSIeFqydr",
        "outputId": "bec350cf-7826-40c8-e9b8-1dcd7c4a9acf"
      },
      "execution_count": 44,
      "outputs": [
        {
          "output_type": "display_data",
          "data": {
            "text/plain": [
              "1.0"
            ]
          },
          "metadata": {}
        }
      ]
    },
    {
      "cell_type": "code",
      "source": [
        "# 考慮權重\n",
        "result2 = knn.predict2(test_X)\n",
        "\n",
        "display(np.sum(result2 == test_y) / len(result2))"
      ],
      "metadata": {
        "colab": {
          "base_uri": "https://localhost:8080/",
          "height": 34
        },
        "id": "HvIgTHZZWKgU",
        "outputId": "6b0bff4a-bb94-4888-c499-7b063f2b259c"
      },
      "execution_count": 45,
      "outputs": [
        {
          "output_type": "display_data",
          "data": {
            "text/plain": [
              "1.0"
            ]
          },
          "metadata": {}
        }
      ]
    },
    {
      "cell_type": "code",
      "source": [
        "import matplotlib as mpl\n",
        "import matplotlib.pyplot as plt"
      ],
      "metadata": {
        "id": "kIrLwyywtR2M"
      },
      "execution_count": 20,
      "outputs": []
    },
    {
      "cell_type": "code",
      "source": [
        "# 下載台北思源黑體並命名taipei_sans_tc_beta.ttf，移至指定路徑\n",
        "!wget -O TaipeiSansTCBeta-Regular.ttf https://drive.google.com/uc?id=1eGAsTN1HBpJAkeVM57_C7ccp7hbgSz3_&export=download\n",
        "from matplotlib.font_manager import fontManager\n",
        "fontManager.addfont('TaipeiSansTCBeta-Regular.ttf')\n",
        "mpl.rc('font', family='Taipei Sans TC Beta')\n",
        "\n",
        "# 設置在中文字體時能正常顯示負號(-)\n",
        "plt.rcParams['axes.unicode_minus'] = False"
      ],
      "metadata": {
        "colab": {
          "base_uri": "https://localhost:8080/"
        },
        "id": "XFwuAUPbTQ8u",
        "outputId": "97440843-b4a0-4318-f672-34e2b63d1856"
      },
      "execution_count": 40,
      "outputs": [
        {
          "output_type": "stream",
          "name": "stdout",
          "text": [
            "--2023-01-08 16:54:05--  https://drive.google.com/uc?id=1eGAsTN1HBpJAkeVM57_C7ccp7hbgSz3_\n",
            "Resolving drive.google.com (drive.google.com)... 74.125.204.100, 74.125.204.138, 74.125.204.113, ...\n",
            "Connecting to drive.google.com (drive.google.com)|74.125.204.100|:443... connected.\n",
            "HTTP request sent, awaiting response... 303 See Other\n",
            "Location: https://doc-0k-9o-docs.googleusercontent.com/docs/securesc/ha0ro937gcuc7l7deffksulhg5h7mbp1/6d1omiilsutmjciecactdtbloldppiun/1673196825000/02847987870453524430/*/1eGAsTN1HBpJAkeVM57_C7ccp7hbgSz3_?uuid=f005b1f9-554a-435e-a10c-ebf9a77306cd [following]\n",
            "Warning: wildcards not supported in HTTP.\n",
            "--2023-01-08 16:54:06--  https://doc-0k-9o-docs.googleusercontent.com/docs/securesc/ha0ro937gcuc7l7deffksulhg5h7mbp1/6d1omiilsutmjciecactdtbloldppiun/1673196825000/02847987870453524430/*/1eGAsTN1HBpJAkeVM57_C7ccp7hbgSz3_?uuid=f005b1f9-554a-435e-a10c-ebf9a77306cd\n",
            "Resolving doc-0k-9o-docs.googleusercontent.com (doc-0k-9o-docs.googleusercontent.com)... 108.177.97.132, 2404:6800:4008:c00::84\n",
            "Connecting to doc-0k-9o-docs.googleusercontent.com (doc-0k-9o-docs.googleusercontent.com)|108.177.97.132|:443... connected.\n",
            "HTTP request sent, awaiting response... 200 OK\n",
            "Length: 20659344 (20M) [application/x-font-ttf]\n",
            "Saving to: ‘TaipeiSansTCBeta-Regular.ttf’\n",
            "\n",
            "TaipeiSansTCBeta-Re 100%[===================>]  19.70M  --.-KB/s    in 0.07s   \n",
            "\n",
            "2023-01-08 16:54:06 (263 MB/s) - ‘TaipeiSansTCBeta-Regular.ttf’ saved [20659344/20659344]\n",
            "\n"
          ]
        }
      ]
    },
    {
      "cell_type": "code",
      "source": [
        "# {'Iris-versicolor': 0, 'Iris-setosa': 1, 'Iris-virginica': 2}\n",
        "# 設置畫布大小\n",
        "plt.figure(figsize=(10, 10))\n",
        "# 繪製訓練集的數據\n",
        "plt.scatter(x=t0['SepalLengthCm'][:40], y=t0['PetalLengthCm'][:40], color='r', label='Iris-versicolor')\n",
        "plt.scatter(x=t1['SepalLengthCm'][:40], y=t1['PetalLengthCm'][:40], color='g', label='Iris-setosa')\n",
        "plt.scatter(x=t2['SepalLengthCm'][:40], y=t2['PetalLengthCm'][:40], color='b', label='Iris-virginica')\n",
        "\n",
        "# 繪製測試集的數據\n",
        "right = test_X[result == test_y]\n",
        "wrong = test_X[result != test_y]\n",
        "plt.scatter(x=right['SepalLengthCm'], y=right['PetalLengthCm'], color='c', marker='x', label='right')\n",
        "plt.scatter(x=wrong['SepalLengthCm'], y=wrong['PetalLengthCm'], color='m', marker='>', label='wrong')\n",
        "plt.xlabel('花萼長度')\n",
        "plt.ylabel('花瓣長度')\n",
        "plt.title('KNN分類結果顯示')\n",
        "plt.legend(loc='best')\n",
        "plt.show()"
      ],
      "metadata": {
        "colab": {
          "base_uri": "https://localhost:8080/",
          "height": 621
        },
        "id": "vzsJFXKuPzCv",
        "outputId": "a29ab1d4-c84e-4952-b51c-012bc8cbcc59"
      },
      "execution_count": 42,
      "outputs": [
        {
          "output_type": "display_data",
          "data": {
            "text/plain": [
              "<Figure size 720x720 with 1 Axes>"
            ],
            "image/png": "[encoded data removed]"
          },
          "metadata": {
            "needs_background": "light"
          }
        }
      ]
    }
  ]
}